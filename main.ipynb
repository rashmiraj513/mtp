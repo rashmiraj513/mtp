{
 "cells": [
  {
   "cell_type": "code",
   "execution_count": 1,
   "metadata": {},
   "outputs": [],
   "source": [
    "import os\n",
    "import numpy as np\n",
    "import matplotlib.pyplot as plt\n",
    "import torch as tt\n",
    "import torch.nn as nn\n",
    "import torch.optim as oo\n",
    "import rl.modular as mod\n",
    "import rl.dqn as dqn\n",
    "from rl.exp import validate_episode, validate_episodes, validate_episode_sum\n",
    "import gymnasium as gym\n",
    "from gymnasium.spaces import Box, Discrete"
   ]
  },
  {
   "cell_type": "code",
   "execution_count": 2,
   "metadata": {},
   "outputs": [],
   "source": [
    "dtype = tt.float32\n",
    "device = tt.device(\"cuda\" if tt.cuda.is_available() else \"cpu\")\n",
    "factory = dict(device=device, dtype=dtype)"
   ]
  },
  {
   "cell_type": "markdown",
   "metadata": {},
   "source": [
    "## Environment Setup\n"
   ]
  },
  {
   "cell_type": "code",
   "execution_count": 3,
   "metadata": {},
   "outputs": [],
   "source": [
    "import rl.jenv as jenv"
   ]
  },
  {
   "cell_type": "code",
   "execution_count": 4,
   "metadata": {},
   "outputs": [],
   "source": [
    "task_list = jenv.generate_task_list(total=100, seed=99)\n",
    "num_exec = 2\n",
    "env = jenv.envF(task_list, num_exec)\n",
    "validations_envs = [jenv.envF(task_list, num_exec)]"
   ]
  },
  {
   "cell_type": "code",
   "execution_count": 5,
   "metadata": {},
   "outputs": [
    {
     "name": "stdout",
     "output_type": "stream",
     "text": [
      "[np.int64(0), np.int64(0), np.int64(1), np.int64(1), np.int64(0), np.int64(0), np.int64(0), np.int64(1), np.int64(1), np.int64(0), np.int64(0), np.int64(0), np.int64(0), np.int64(1), np.int64(0), np.int64(1), np.int64(1), np.int64(0), np.int64(1), np.int64(0), np.int64(1), np.int64(0), np.int64(0), np.int64(1), np.int64(1), np.int64(1), np.int64(0), np.int64(1), np.int64(0), np.int64(1), np.int64(0), np.int64(0), np.int64(0), np.int64(0), np.int64(1), np.int64(1), np.int64(1), np.int64(1), np.int64(0), np.int64(1), np.int64(1), np.int64(0), np.int64(0), np.int64(1), np.int64(0), np.int64(0), np.int64(0), np.int64(0), np.int64(0), np.int64(1), np.int64(1), np.int64(1), np.int64(1), np.int64(1), np.int64(0), np.int64(1), np.int64(1), np.int64(0), np.int64(1), np.int64(0), np.int64(0), np.int64(1), np.int64(0), np.int64(1), np.int64(0), np.int64(0), np.int64(0), np.int64(0), np.int64(1), np.int64(0), np.int64(1), np.int64(0), np.int64(1), np.int64(0), np.int64(1), np.int64(0), np.int64(1), np.int64(0), np.int64(1), np.int64(1), np.int64(1), np.int64(1), np.int64(1), np.int64(0), np.int64(0), np.int64(1), np.int64(1), np.int64(1), np.int64(1), np.int64(0), np.int64(0), np.int64(1), np.int64(0), np.int64(0), np.int64(0), np.int64(1), np.int64(0), np.int64(1), np.int64(1), np.int64(1)]\n",
      "914.2818340093067\n"
     ]
    }
   ],
   "source": [
    "obs, info = env.reset()\n",
    "cs = 0\n",
    "ac = []\n",
    "done = False\n",
    "while not done:\n",
    "    action = env.action_space.sample()\n",
    "    obs, reward, terminated, truncated, info = env.step(action)\n",
    "    done = truncated or terminated\n",
    "    cs += reward\n",
    "    ac.append(action)\n",
    "print(ac)\n",
    "print(cs)"
   ]
  },
  {
   "cell_type": "code",
   "execution_count": 6,
   "metadata": {},
   "outputs": [
    {
     "name": "stderr",
     "output_type": "stream",
     "text": [
      "c:\\Users\\rajrashm\\vscode\\git\\mtp\\virtual_env\\Lib\\site-packages\\gymnasium\\utils\\env_checker.py:225: UserWarning: \u001b[33mWARN: A Box observation space minimum value is -infinity. This is probably too low.\u001b[0m\n",
      "  logger.warn(\n",
      "c:\\Users\\rajrashm\\vscode\\git\\mtp\\virtual_env\\Lib\\site-packages\\gymnasium\\utils\\env_checker.py:229: UserWarning: \u001b[33mWARN: A Box observation space maximum value is -infinity. This is probably too high.\u001b[0m\n",
      "  logger.warn(\n",
      "c:\\Users\\rajrashm\\vscode\\git\\mtp\\virtual_env\\Lib\\site-packages\\gymnasium\\utils\\env_checker.py:321: UserWarning: \u001b[33mWARN: Not able to test alternative render modes due to the environment not having a spec. Try instantialising the environment through gymnasium.make\u001b[0m\n",
      "  logger.warn(\n"
     ]
    }
   ],
   "source": [
    "import gymnasium.utils.env_checker as env_checker\n",
    "\n",
    "env_checker.check_env(env)"
   ]
  },
  {
   "cell_type": "code",
   "execution_count": 7,
   "metadata": {},
   "outputs": [],
   "source": [
    "def cfopt_ADAM(\n",
    "    model,\n",
    "    device_type,\n",
    "    weight_decay=1e-2,\n",
    "    learning_rate=1e-3,\n",
    "    betas=(0.9, 0.999),\n",
    "    eps=1e-8,\n",
    "):\n",
    "    optimizer = tt.optim.Adam(\n",
    "        model.parameters(),\n",
    "        lr=learning_rate,\n",
    "        betas=betas,\n",
    "        eps=eps,\n",
    "    )\n",
    "    return optimizer"
   ]
  },
  {
   "cell_type": "code",
   "execution_count": 8,
   "metadata": {},
   "outputs": [
    {
     "name": "stdout",
     "output_type": "stream",
     "text": [
      "Sequential(\n",
      "  (0): Linear(in_features=6, out_features=400, bias=True)\n",
      "  (1): ReLU()\n",
      "  (2): Linear(in_features=400, out_features=300, bias=True)\n",
      "  (3): ReLU()\n",
      "  (4): Linear(in_features=300, out_features=2, bias=True)\n",
      ")\n",
      "123702 parameters\n"
     ]
    }
   ],
   "source": [
    "value_thetaF = lambda: mod.dense(\n",
    "    in_dim=env.observation_space.shape[0],\n",
    "    layer_dims=[400, 300],\n",
    "    out_dim=env.action_space.n,\n",
    "    actFs=[nn.ReLU(), nn.ReLU()],\n",
    "    use_bias=True,\n",
    "    use_biasL=True,\n",
    "    **factory\n",
    ")\n",
    "value_theta = value_thetaF()\n",
    "print(value_theta)\n",
    "print(mod.count(value_theta), \"parameters\")"
   ]
  },
  {
   "cell_type": "code",
   "execution_count": 9,
   "metadata": {},
   "outputs": [],
   "source": [
    "load_theta = \"\"\n",
    "# load_theta=\"c1_dqn_01/3500.pie\" # load to continue training\n",
    "\n",
    "if load_theta:\n",
    "    print(f\"Loading pie from {load_theta}\")\n",
    "    print(value_theta.load_state_dict(dqn.load_pie(load_theta).theta.state_dict()))"
   ]
  },
  {
   "cell_type": "code",
   "execution_count": 10,
   "metadata": {},
   "outputs": [],
   "source": [
    "# optimizers\n",
    "weight_decay = 0.0  # 1e-6\n",
    "learning_rate = 0.00005\n",
    "\n",
    "\n",
    "epochs = 10000\n",
    "batch_size = 8\n",
    "learn_times = 16\n",
    "tuf = 64\n",
    "\n",
    "gamma = 0.99\n",
    "polyak = 0.0\n",
    "double = False\n",
    "\n",
    "epsilonStart = 1.0\n",
    "epsilonEnd = 0.2\n",
    "emap = mod.Remap(Input_Range=(0.0, 1.0), Output_Range=(epsilonStart, epsilonEnd))\n",
    "epsilonF = lambda e: emap(e)\n",
    "epsilonSeed = 15\n",
    "\n",
    "memory_capacity = int(1e6)\n",
    "min_memory = int(1e3)\n",
    "\n",
    "n_validations = int(epochs * 0.01)\n",
    "\n",
    "n_checkpoints = int(epochs * 0.001)  # n_validations\n",
    "\n",
    "explore_size_mul = 1.0\n",
    "explore_size = int(explore_size_mul * (batch_size * learn_times))\n",
    "\n",
    "save_at = \"DQN\"\n",
    "\n",
    "exp = None"
   ]
  },
  {
   "cell_type": "code",
   "execution_count": 11,
   "metadata": {},
   "outputs": [
    {
     "name": "stderr",
     "output_type": "stream",
     "text": [
      "c:\\Users\\rajrashm\\vscode\\git\\mtp\\rl\\modular.py:151: FutureWarning: You are using `torch.load` with `weights_only=False` (the current default value), which uses the default pickle module implicitly. It is possible to construct malicious pickle data which will execute arbitrary code during unpickling (See https://github.com/pytorch/pytorch/blob/main/SECURITY.md#untrusted-models for more details). In a future release, the default value for `weights_only` will be flipped to `True`. This limits the functions that could be executed during unpickling. Arbitrary objects will no longer be allowed to be loaded via this mode unless they are explicitly allowlisted by the user via `torch.serialization.add_safe_globals`. We recommend you start setting `weights_only=True` for any use case where you don't have full control of the loaded file. Please open an issue on GitHub for any issues related to this experimental feature.\n",
      "  model_copy = tt.load(buffer)\n"
     ]
    },
    {
     "name": "stdout",
     "output_type": "stream",
     "text": [
      "[*] Explored Min-Memory [1000] Steps\n",
      "Checkpoint @ DQN\\pre.pie\n",
      " [Pre-Validation] :: Return:500.0, Steps:100.0\n"
     ]
    },
    {
     "name": "stderr",
     "output_type": "stream",
     "text": [
      "  1%|          | 103/10000 [00:04<06:14, 26.45it/s]"
     ]
    },
    {
     "name": "stdout",
     "output_type": "stream",
     "text": [
      " [Validation] :: Return:517.9972756341348, Steps:100.0\n"
     ]
    },
    {
     "name": "stderr",
     "output_type": "stream",
     "text": [
      "  2%|▏         | 203/10000 [00:08<06:47, 24.03it/s]"
     ]
    },
    {
     "name": "stdout",
     "output_type": "stream",
     "text": [
      " [Validation] :: Return:537.5251593502983, Steps:100.0\n"
     ]
    },
    {
     "name": "stderr",
     "output_type": "stream",
     "text": [
      "  3%|▎         | 302/10000 [00:12<06:14, 25.86it/s]"
     ]
    },
    {
     "name": "stdout",
     "output_type": "stream",
     "text": [
      " [Validation] :: Return:549.1509774222941, Steps:100.0\n"
     ]
    },
    {
     "name": "stderr",
     "output_type": "stream",
     "text": [
      "  4%|▍         | 405/10000 [00:16<06:46, 23.60it/s]"
     ]
    },
    {
     "name": "stdout",
     "output_type": "stream",
     "text": [
      " [Validation] :: Return:509.0523365270754, Steps:100.0\n"
     ]
    },
    {
     "name": "stderr",
     "output_type": "stream",
     "text": [
      "  5%|▌         | 503/10000 [00:20<06:00, 26.35it/s]"
     ]
    },
    {
     "name": "stdout",
     "output_type": "stream",
     "text": [
      " [Validation] :: Return:676.5289407458997, Steps:100.0\n"
     ]
    },
    {
     "name": "stderr",
     "output_type": "stream",
     "text": [
      "  6%|▌         | 603/10000 [00:23<05:40, 27.58it/s]"
     ]
    },
    {
     "name": "stdout",
     "output_type": "stream",
     "text": [
      " [Validation] :: Return:505.55897328237484, Steps:100.0\n"
     ]
    },
    {
     "name": "stderr",
     "output_type": "stream",
     "text": [
      "  7%|▋         | 705/10000 [00:27<05:47, 26.77it/s]"
     ]
    },
    {
     "name": "stdout",
     "output_type": "stream",
     "text": [
      " [Validation] :: Return:548.5670665884642, Steps:100.0\n"
     ]
    },
    {
     "name": "stderr",
     "output_type": "stream",
     "text": [
      "  8%|▊         | 804/10000 [00:31<05:50, 26.22it/s]"
     ]
    },
    {
     "name": "stdout",
     "output_type": "stream",
     "text": [
      " [Validation] :: Return:517.9972756341348, Steps:100.0\n"
     ]
    },
    {
     "name": "stderr",
     "output_type": "stream",
     "text": [
      "  9%|▉         | 903/10000 [00:35<05:48, 26.10it/s]"
     ]
    },
    {
     "name": "stdout",
     "output_type": "stream",
     "text": [
      " [Validation] :: Return:505.55897328237484, Steps:100.0\n"
     ]
    },
    {
     "name": "stderr",
     "output_type": "stream",
     "text": [
      " 10%|█         | 1002/10000 [00:39<05:59, 25.04it/s]"
     ]
    },
    {
     "name": "stdout",
     "output_type": "stream",
     "text": [
      "Checkpoint @ DQN\\1000.pie\n",
      " [Validation] :: Return:505.55897328237484, Steps:100.0\n"
     ]
    },
    {
     "name": "stderr",
     "output_type": "stream",
     "text": [
      " 11%|█         | 1102/10000 [00:43<06:51, 21.63it/s]"
     ]
    },
    {
     "name": "stdout",
     "output_type": "stream",
     "text": [
      " [Validation] :: Return:589.3831118883093, Steps:100.0\n"
     ]
    },
    {
     "name": "stderr",
     "output_type": "stream",
     "text": [
      " 12%|█▏        | 1202/10000 [00:48<06:34, 22.30it/s]"
     ]
    },
    {
     "name": "stdout",
     "output_type": "stream",
     "text": [
      " [Validation] :: Return:505.55897328237484, Steps:100.0\n"
     ]
    },
    {
     "name": "stderr",
     "output_type": "stream",
     "text": [
      " 13%|█▎        | 1304/10000 [00:53<06:39, 21.79it/s]"
     ]
    },
    {
     "name": "stdout",
     "output_type": "stream",
     "text": [
      " [Validation] :: Return:663.6652334092946, Steps:100.0\n"
     ]
    },
    {
     "name": "stderr",
     "output_type": "stream",
     "text": [
      " 14%|█▍        | 1402/10000 [00:57<06:48, 21.05it/s]"
     ]
    },
    {
     "name": "stdout",
     "output_type": "stream",
     "text": [
      " [Validation] :: Return:568.4951014564926, Steps:100.0\n"
     ]
    },
    {
     "name": "stderr",
     "output_type": "stream",
     "text": [
      " 15%|█▌        | 1504/10000 [01:02<06:48, 20.80it/s]"
     ]
    },
    {
     "name": "stdout",
     "output_type": "stream",
     "text": [
      " [Validation] :: Return:789.859944584394, Steps:100.0\n"
     ]
    },
    {
     "name": "stderr",
     "output_type": "stream",
     "text": [
      " 16%|█▌        | 1603/10000 [01:07<06:45, 20.70it/s]"
     ]
    },
    {
     "name": "stdout",
     "output_type": "stream",
     "text": [
      " [Validation] :: Return:505.55897328237484, Steps:100.0\n"
     ]
    },
    {
     "name": "stderr",
     "output_type": "stream",
     "text": [
      " 17%|█▋        | 1701/10000 [01:12<07:46, 17.78it/s]"
     ]
    },
    {
     "name": "stdout",
     "output_type": "stream",
     "text": [
      " [Validation] :: Return:537.5251593502983, Steps:100.0\n"
     ]
    },
    {
     "name": "stderr",
     "output_type": "stream",
     "text": [
      " 18%|█▊        | 1802/10000 [01:17<07:15, 18.82it/s]"
     ]
    },
    {
     "name": "stdout",
     "output_type": "stream",
     "text": [
      " [Validation] :: Return:537.5251593502983, Steps:100.0\n"
     ]
    },
    {
     "name": "stderr",
     "output_type": "stream",
     "text": [
      " 19%|█▉        | 1902/10000 [01:22<07:17, 18.49it/s]"
     ]
    },
    {
     "name": "stdout",
     "output_type": "stream",
     "text": [
      " [Validation] :: Return:505.55897328237484, Steps:100.0\n"
     ]
    },
    {
     "name": "stderr",
     "output_type": "stream",
     "text": [
      " 20%|██        | 2002/10000 [01:28<07:07, 18.70it/s]"
     ]
    },
    {
     "name": "stdout",
     "output_type": "stream",
     "text": [
      "Checkpoint @ DQN\\2000.pie\n",
      " [Validation] :: Return:809.3977433304696, Steps:100.0\n"
     ]
    },
    {
     "name": "stderr",
     "output_type": "stream",
     "text": [
      " 21%|██        | 2102/10000 [01:33<07:23, 17.80it/s]"
     ]
    },
    {
     "name": "stdout",
     "output_type": "stream",
     "text": [
      " [Validation] :: Return:505.55897328237484, Steps:100.0\n"
     ]
    },
    {
     "name": "stderr",
     "output_type": "stream",
     "text": [
      " 22%|██▏       | 2202/10000 [01:39<07:44, 16.80it/s]"
     ]
    },
    {
     "name": "stdout",
     "output_type": "stream",
     "text": [
      " [Validation] :: Return:618.0805069122549, Steps:100.0\n"
     ]
    },
    {
     "name": "stderr",
     "output_type": "stream",
     "text": [
      " 23%|██▎       | 2302/10000 [01:45<08:17, 15.46it/s]"
     ]
    },
    {
     "name": "stdout",
     "output_type": "stream",
     "text": [
      " [Validation] :: Return:505.55897328237484, Steps:100.0\n"
     ]
    },
    {
     "name": "stderr",
     "output_type": "stream",
     "text": [
      " 24%|██▍       | 2403/10000 [01:51<07:13, 17.53it/s]"
     ]
    },
    {
     "name": "stdout",
     "output_type": "stream",
     "text": [
      " [Validation] :: Return:568.4951014564926, Steps:100.0\n"
     ]
    },
    {
     "name": "stderr",
     "output_type": "stream",
     "text": [
      " 25%|██▌       | 2502/10000 [01:57<07:09, 17.46it/s]"
     ]
    },
    {
     "name": "stdout",
     "output_type": "stream",
     "text": [
      " [Validation] :: Return:505.55897328237484, Steps:100.0\n"
     ]
    },
    {
     "name": "stderr",
     "output_type": "stream",
     "text": [
      " 26%|██▌       | 2603/10000 [02:03<07:11, 17.12it/s]"
     ]
    },
    {
     "name": "stdout",
     "output_type": "stream",
     "text": [
      " [Validation] :: Return:505.55897328237484, Steps:100.0\n"
     ]
    },
    {
     "name": "stderr",
     "output_type": "stream",
     "text": [
      " 27%|██▋       | 2702/10000 [02:09<07:18, 16.64it/s]"
     ]
    },
    {
     "name": "stdout",
     "output_type": "stream",
     "text": [
      " [Validation] :: Return:608.1373486960453, Steps:100.0\n"
     ]
    },
    {
     "name": "stderr",
     "output_type": "stream",
     "text": [
      " 28%|██▊       | 2801/10000 [02:15<07:30, 15.99it/s]"
     ]
    },
    {
     "name": "stdout",
     "output_type": "stream",
     "text": [
      " [Validation] :: Return:505.55897328237484, Steps:100.0\n"
     ]
    },
    {
     "name": "stderr",
     "output_type": "stream",
     "text": [
      " 29%|██▉       | 2901/10000 [02:21<07:35, 15.57it/s]"
     ]
    },
    {
     "name": "stdout",
     "output_type": "stream",
     "text": [
      " [Validation] :: Return:505.55897328237484, Steps:100.0\n"
     ]
    },
    {
     "name": "stderr",
     "output_type": "stream",
     "text": [
      " 30%|███       | 3001/10000 [02:28<07:58, 14.63it/s]"
     ]
    },
    {
     "name": "stdout",
     "output_type": "stream",
     "text": [
      "Checkpoint @ DQN\\3000.pie\n",
      " [Validation] :: Return:702.7923867834863, Steps:100.0\n"
     ]
    },
    {
     "name": "stderr",
     "output_type": "stream",
     "text": [
      " 31%|███       | 3101/10000 [02:34<08:25, 13.64it/s]"
     ]
    },
    {
     "name": "stdout",
     "output_type": "stream",
     "text": [
      " [Validation] :: Return:777.6804456545658, Steps:100.0\n"
     ]
    },
    {
     "name": "stderr",
     "output_type": "stream",
     "text": [
      " 32%|███▏      | 3203/10000 [02:41<07:09, 15.82it/s]"
     ]
    },
    {
     "name": "stdout",
     "output_type": "stream",
     "text": [
      " [Validation] :: Return:554.7030131470233, Steps:100.0\n"
     ]
    },
    {
     "name": "stderr",
     "output_type": "stream",
     "text": [
      " 33%|███▎      | 3303/10000 [02:48<07:19, 15.23it/s]"
     ]
    },
    {
     "name": "stdout",
     "output_type": "stream",
     "text": [
      " [Validation] :: Return:669.4277565618177, Steps:100.0\n"
     ]
    },
    {
     "name": "stderr",
     "output_type": "stream",
     "text": [
      " 34%|███▍      | 3403/10000 [02:55<07:16, 15.11it/s]"
     ]
    },
    {
     "name": "stdout",
     "output_type": "stream",
     "text": [
      " [Validation] :: Return:608.037063653202, Steps:100.0\n"
     ]
    },
    {
     "name": "stderr",
     "output_type": "stream",
     "text": [
      " 35%|███▌      | 3503/10000 [03:02<07:38, 14.16it/s]"
     ]
    },
    {
     "name": "stdout",
     "output_type": "stream",
     "text": [
      " [Validation] :: Return:681.7864308779627, Steps:100.0\n"
     ]
    },
    {
     "name": "stderr",
     "output_type": "stream",
     "text": [
      " 36%|███▌      | 3601/10000 [03:08<07:19, 14.56it/s]"
     ]
    },
    {
     "name": "stdout",
     "output_type": "stream",
     "text": [
      " [Validation] :: Return:514.5544251043417, Steps:100.0\n"
     ]
    },
    {
     "name": "stderr",
     "output_type": "stream",
     "text": [
      " 37%|███▋      | 3703/10000 [03:15<07:10, 14.64it/s]"
     ]
    },
    {
     "name": "stdout",
     "output_type": "stream",
     "text": [
      " [Validation] :: Return:773.9376038211149, Steps:100.0\n"
     ]
    },
    {
     "name": "stderr",
     "output_type": "stream",
     "text": [
      " 38%|███▊      | 3801/10000 [03:22<07:47, 13.26it/s]"
     ]
    },
    {
     "name": "stdout",
     "output_type": "stream",
     "text": [
      " [Validation] :: Return:594.7590893251502, Steps:100.0\n"
     ]
    },
    {
     "name": "stderr",
     "output_type": "stream",
     "text": [
      " 39%|███▉      | 3901/10000 [03:30<07:30, 13.55it/s]"
     ]
    },
    {
     "name": "stdout",
     "output_type": "stream",
     "text": [
      " [Validation] :: Return:505.55897328237484, Steps:100.0\n"
     ]
    },
    {
     "name": "stderr",
     "output_type": "stream",
     "text": [
      " 40%|████      | 4001/10000 [03:37<08:00, 12.48it/s]"
     ]
    },
    {
     "name": "stdout",
     "output_type": "stream",
     "text": [
      "Checkpoint @ DQN\\4000.pie\n",
      " [Validation] :: Return:514.9639156896689, Steps:100.0\n"
     ]
    },
    {
     "name": "stderr",
     "output_type": "stream",
     "text": [
      " 41%|████      | 4101/10000 [03:45<07:09, 13.74it/s]"
     ]
    },
    {
     "name": "stdout",
     "output_type": "stream",
     "text": [
      " [Validation] :: Return:505.55897328237484, Steps:100.0\n"
     ]
    },
    {
     "name": "stderr",
     "output_type": "stream",
     "text": [
      " 42%|████▏     | 4201/10000 [03:52<07:22, 13.11it/s]"
     ]
    },
    {
     "name": "stdout",
     "output_type": "stream",
     "text": [
      " [Validation] :: Return:505.55897328237484, Steps:100.0\n"
     ]
    },
    {
     "name": "stderr",
     "output_type": "stream",
     "text": [
      " 43%|████▎     | 4301/10000 [03:59<07:08, 13.31it/s]"
     ]
    },
    {
     "name": "stdout",
     "output_type": "stream",
     "text": [
      " [Validation] :: Return:535.59200406573, Steps:100.0\n"
     ]
    },
    {
     "name": "stderr",
     "output_type": "stream",
     "text": [
      " 44%|████▍     | 4401/10000 [04:07<07:20, 12.71it/s]"
     ]
    },
    {
     "name": "stdout",
     "output_type": "stream",
     "text": [
      " [Validation] :: Return:559.3825388404985, Steps:100.0\n"
     ]
    },
    {
     "name": "stderr",
     "output_type": "stream",
     "text": [
      " 45%|████▌     | 4501/10000 [04:15<07:31, 12.18it/s]"
     ]
    },
    {
     "name": "stdout",
     "output_type": "stream",
     "text": [
      " [Validation] :: Return:561.0119869362384, Steps:100.0\n"
     ]
    },
    {
     "name": "stderr",
     "output_type": "stream",
     "text": [
      " 46%|████▌     | 4601/10000 [04:23<07:54, 11.39it/s]"
     ]
    },
    {
     "name": "stdout",
     "output_type": "stream",
     "text": [
      " [Validation] :: Return:505.55897328237484, Steps:100.0\n"
     ]
    },
    {
     "name": "stderr",
     "output_type": "stream",
     "text": [
      " 47%|████▋     | 4702/10000 [04:33<07:40, 11.51it/s]"
     ]
    },
    {
     "name": "stdout",
     "output_type": "stream",
     "text": [
      " [Validation] :: Return:505.55897328237484, Steps:100.0\n"
     ]
    },
    {
     "name": "stderr",
     "output_type": "stream",
     "text": [
      " 48%|████▊     | 4802/10000 [04:41<07:03, 12.28it/s]"
     ]
    },
    {
     "name": "stdout",
     "output_type": "stream",
     "text": [
      " [Validation] :: Return:519.6393335897543, Steps:100.0\n"
     ]
    },
    {
     "name": "stderr",
     "output_type": "stream",
     "text": [
      " 49%|████▉     | 4902/10000 [04:49<06:43, 12.63it/s]"
     ]
    },
    {
     "name": "stdout",
     "output_type": "stream",
     "text": [
      " [Validation] :: Return:679.9341980091809, Steps:100.0\n"
     ]
    },
    {
     "name": "stderr",
     "output_type": "stream",
     "text": [
      " 50%|█████     | 5002/10000 [04:58<06:49, 12.22it/s]"
     ]
    },
    {
     "name": "stdout",
     "output_type": "stream",
     "text": [
      "Checkpoint @ DQN\\5000.pie\n",
      " [Validation] :: Return:786.0530594645911, Steps:100.0\n"
     ]
    },
    {
     "name": "stderr",
     "output_type": "stream",
     "text": [
      " 51%|█████     | 5102/10000 [05:06<06:50, 11.93it/s]"
     ]
    },
    {
     "name": "stdout",
     "output_type": "stream",
     "text": [
      " [Validation] :: Return:624.3022025027567, Steps:100.0\n"
     ]
    },
    {
     "name": "stderr",
     "output_type": "stream",
     "text": [
      " 52%|█████▏    | 5202/10000 [05:14<06:32, 12.22it/s]"
     ]
    },
    {
     "name": "stdout",
     "output_type": "stream",
     "text": [
      " [Validation] :: Return:553.0112561204994, Steps:100.0\n"
     ]
    },
    {
     "name": "stderr",
     "output_type": "stream",
     "text": [
      " 53%|█████▎    | 5302/10000 [05:23<06:54, 11.34it/s]"
     ]
    },
    {
     "name": "stdout",
     "output_type": "stream",
     "text": [
      " [Validation] :: Return:554.4009413175222, Steps:100.0\n"
     ]
    },
    {
     "name": "stderr",
     "output_type": "stream",
     "text": [
      " 54%|█████▍    | 5402/10000 [05:31<06:57, 11.02it/s]"
     ]
    },
    {
     "name": "stdout",
     "output_type": "stream",
     "text": [
      " [Validation] :: Return:631.4633105960028, Steps:100.0\n"
     ]
    },
    {
     "name": "stderr",
     "output_type": "stream",
     "text": [
      " 55%|█████▌    | 5502/10000 [05:40<06:55, 10.82it/s]"
     ]
    },
    {
     "name": "stdout",
     "output_type": "stream",
     "text": [
      " [Validation] :: Return:567.5588502339956, Steps:100.0\n"
     ]
    },
    {
     "name": "stderr",
     "output_type": "stream",
     "text": [
      " 56%|█████▌    | 5602/10000 [05:49<06:41, 10.95it/s]"
     ]
    },
    {
     "name": "stdout",
     "output_type": "stream",
     "text": [
      " [Validation] :: Return:505.55897328237484, Steps:100.0\n"
     ]
    },
    {
     "name": "stderr",
     "output_type": "stream",
     "text": [
      " 57%|█████▋    | 5702/10000 [05:58<06:03, 11.83it/s]"
     ]
    },
    {
     "name": "stdout",
     "output_type": "stream",
     "text": [
      " [Validation] :: Return:644.2717466395006, Steps:100.0\n"
     ]
    },
    {
     "name": "stderr",
     "output_type": "stream",
     "text": [
      " 58%|█████▊    | 5800/10000 [06:06<06:08, 11.39it/s]"
     ]
    },
    {
     "name": "stdout",
     "output_type": "stream",
     "text": [
      " [Validation] :: Return:681.2087538941315, Steps:100.0\n"
     ]
    },
    {
     "name": "stderr",
     "output_type": "stream",
     "text": [
      " 59%|█████▉    | 5900/10000 [06:16<06:20, 10.78it/s]"
     ]
    },
    {
     "name": "stdout",
     "output_type": "stream",
     "text": [
      " [Validation] :: Return:505.55897328237484, Steps:100.0\n"
     ]
    },
    {
     "name": "stderr",
     "output_type": "stream",
     "text": [
      " 60%|██████    | 6000/10000 [06:25<06:42,  9.93it/s]"
     ]
    },
    {
     "name": "stdout",
     "output_type": "stream",
     "text": [
      "Checkpoint @ DQN\\6000.pie\n",
      " [Validation] :: Return:593.9966782298224, Steps:100.0\n"
     ]
    },
    {
     "name": "stderr",
     "output_type": "stream",
     "text": [
      " 61%|██████    | 6102/10000 [06:35<05:50, 11.11it/s]"
     ]
    },
    {
     "name": "stdout",
     "output_type": "stream",
     "text": [
      " [Validation] :: Return:598.1122410400865, Steps:100.0\n"
     ]
    },
    {
     "name": "stderr",
     "output_type": "stream",
     "text": [
      " 62%|██████▏   | 6202/10000 [06:44<06:11, 10.23it/s]"
     ]
    },
    {
     "name": "stdout",
     "output_type": "stream",
     "text": [
      " [Validation] :: Return:505.55897328237484, Steps:100.0\n"
     ]
    },
    {
     "name": "stderr",
     "output_type": "stream",
     "text": [
      " 63%|██████▎   | 6300/10000 [06:53<06:20,  9.72it/s]"
     ]
    },
    {
     "name": "stdout",
     "output_type": "stream",
     "text": [
      " [Validation] :: Return:647.8650944902503, Steps:100.0\n"
     ]
    },
    {
     "name": "stderr",
     "output_type": "stream",
     "text": [
      " 64%|██████▍   | 6402/10000 [07:03<05:28, 10.96it/s]"
     ]
    },
    {
     "name": "stdout",
     "output_type": "stream",
     "text": [
      " [Validation] :: Return:505.55897328237484, Steps:100.0\n"
     ]
    },
    {
     "name": "stderr",
     "output_type": "stream",
     "text": [
      " 65%|██████▌   | 6502/10000 [07:13<05:30, 10.57it/s]"
     ]
    },
    {
     "name": "stdout",
     "output_type": "stream",
     "text": [
      " [Validation] :: Return:724.1763930843135, Steps:100.0\n"
     ]
    },
    {
     "name": "stderr",
     "output_type": "stream",
     "text": [
      " 66%|██████▌   | 6601/10000 [07:23<05:33, 10.19it/s]"
     ]
    },
    {
     "name": "stdout",
     "output_type": "stream",
     "text": [
      " [Validation] :: Return:616.7826978882557, Steps:100.0\n"
     ]
    },
    {
     "name": "stderr",
     "output_type": "stream",
     "text": [
      " 67%|██████▋   | 6701/10000 [07:33<05:38,  9.74it/s]"
     ]
    },
    {
     "name": "stdout",
     "output_type": "stream",
     "text": [
      " [Validation] :: Return:695.542027653199, Steps:100.0\n"
     ]
    },
    {
     "name": "stderr",
     "output_type": "stream",
     "text": [
      " 68%|██████▊   | 6802/10000 [07:43<05:12, 10.24it/s]"
     ]
    },
    {
     "name": "stdout",
     "output_type": "stream",
     "text": [
      " [Validation] :: Return:523.5757769216567, Steps:100.0\n"
     ]
    },
    {
     "name": "stderr",
     "output_type": "stream",
     "text": [
      " 69%|██████▉   | 6901/10000 [07:52<05:20,  9.68it/s]"
     ]
    },
    {
     "name": "stdout",
     "output_type": "stream",
     "text": [
      " [Validation] :: Return:607.1884267052418, Steps:100.0\n"
     ]
    },
    {
     "name": "stderr",
     "output_type": "stream",
     "text": [
      " 70%|███████   | 7000/10000 [08:02<04:57, 10.09it/s]"
     ]
    },
    {
     "name": "stdout",
     "output_type": "stream",
     "text": [
      "Checkpoint @ DQN\\7000.pie\n",
      " [Validation] :: Return:517.4960722379324, Steps:100.0\n"
     ]
    },
    {
     "name": "stderr",
     "output_type": "stream",
     "text": [
      " 71%|███████   | 7101/10000 [08:12<04:49, 10.02it/s]"
     ]
    },
    {
     "name": "stdout",
     "output_type": "stream",
     "text": [
      " [Validation] :: Return:684.5589122587746, Steps:100.0\n"
     ]
    },
    {
     "name": "stderr",
     "output_type": "stream",
     "text": [
      " 72%|███████▏  | 7201/10000 [08:22<05:32,  8.41it/s]"
     ]
    },
    {
     "name": "stdout",
     "output_type": "stream",
     "text": [
      " [Validation] :: Return:650.855682662076, Steps:100.0\n"
     ]
    },
    {
     "name": "stderr",
     "output_type": "stream",
     "text": [
      " 73%|███████▎  | 7300/10000 [08:32<04:30,  9.98it/s]"
     ]
    },
    {
     "name": "stdout",
     "output_type": "stream",
     "text": [
      " [Validation] :: Return:600.6067981176016, Steps:100.0\n"
     ]
    },
    {
     "name": "stderr",
     "output_type": "stream",
     "text": [
      " 74%|███████▍  | 7402/10000 [08:42<04:21,  9.94it/s]"
     ]
    },
    {
     "name": "stdout",
     "output_type": "stream",
     "text": [
      " [Validation] :: Return:692.7442865301504, Steps:100.0\n"
     ]
    },
    {
     "name": "stderr",
     "output_type": "stream",
     "text": [
      " 75%|███████▌  | 7501/10000 [08:52<04:17,  9.71it/s]"
     ]
    },
    {
     "name": "stdout",
     "output_type": "stream",
     "text": [
      " [Validation] :: Return:668.2332005031792, Steps:100.0\n"
     ]
    },
    {
     "name": "stderr",
     "output_type": "stream",
     "text": [
      " 76%|███████▌  | 7602/10000 [09:02<04:02,  9.90it/s]"
     ]
    },
    {
     "name": "stdout",
     "output_type": "stream",
     "text": [
      " [Validation] :: Return:505.55897328237484, Steps:100.0\n"
     ]
    },
    {
     "name": "stderr",
     "output_type": "stream",
     "text": [
      " 77%|███████▋  | 7701/10000 [09:13<03:57,  9.67it/s]"
     ]
    },
    {
     "name": "stdout",
     "output_type": "stream",
     "text": [
      " [Validation] :: Return:668.2332005031792, Steps:100.0\n"
     ]
    },
    {
     "name": "stderr",
     "output_type": "stream",
     "text": [
      " 78%|███████▊  | 7802/10000 [09:23<03:47,  9.65it/s]"
     ]
    },
    {
     "name": "stdout",
     "output_type": "stream",
     "text": [
      " [Validation] :: Return:514.5544251043417, Steps:100.0\n"
     ]
    },
    {
     "name": "stderr",
     "output_type": "stream",
     "text": [
      " 79%|███████▉  | 7901/10000 [09:33<03:39,  9.57it/s]"
     ]
    },
    {
     "name": "stdout",
     "output_type": "stream",
     "text": [
      " [Validation] :: Return:600.6067981176016, Steps:100.0\n"
     ]
    },
    {
     "name": "stderr",
     "output_type": "stream",
     "text": [
      " 80%|████████  | 8000/10000 [09:43<03:26,  9.70it/s]"
     ]
    },
    {
     "name": "stdout",
     "output_type": "stream",
     "text": [
      "Checkpoint @ DQN\\8000.pie\n",
      " [Validation] :: Return:616.7826978882557, Steps:100.0\n"
     ]
    },
    {
     "name": "stderr",
     "output_type": "stream",
     "text": [
      " 81%|████████  | 8101/10000 [09:54<03:15,  9.73it/s]"
     ]
    },
    {
     "name": "stdout",
     "output_type": "stream",
     "text": [
      " [Validation] :: Return:619.9938404530401, Steps:100.0\n"
     ]
    },
    {
     "name": "stderr",
     "output_type": "stream",
     "text": [
      " 82%|████████▏ | 8201/10000 [10:04<03:08,  9.55it/s]"
     ]
    },
    {
     "name": "stdout",
     "output_type": "stream",
     "text": [
      " [Validation] :: Return:656.220233393499, Steps:100.0\n"
     ]
    },
    {
     "name": "stderr",
     "output_type": "stream",
     "text": [
      " 83%|████████▎ | 8301/10000 [10:14<02:55,  9.70it/s]"
     ]
    },
    {
     "name": "stdout",
     "output_type": "stream",
     "text": [
      " [Validation] :: Return:523.5757769216567, Steps:100.0\n"
     ]
    },
    {
     "name": "stderr",
     "output_type": "stream",
     "text": [
      " 84%|████████▍ | 8401/10000 [10:25<02:44,  9.72it/s]"
     ]
    },
    {
     "name": "stdout",
     "output_type": "stream",
     "text": [
      " [Validation] :: Return:607.1884267052418, Steps:100.0\n"
     ]
    },
    {
     "name": "stderr",
     "output_type": "stream",
     "text": [
      " 85%|████████▌ | 8501/10000 [10:35<02:32,  9.83it/s]"
     ]
    },
    {
     "name": "stdout",
     "output_type": "stream",
     "text": [
      " [Validation] :: Return:620.1885130375738, Steps:100.0\n"
     ]
    },
    {
     "name": "stderr",
     "output_type": "stream",
     "text": [
      " 86%|████████▌ | 8601/10000 [10:46<02:25,  9.62it/s]"
     ]
    },
    {
     "name": "stdout",
     "output_type": "stream",
     "text": [
      " [Validation] :: Return:675.4215005827723, Steps:100.0\n"
     ]
    },
    {
     "name": "stderr",
     "output_type": "stream",
     "text": [
      " 87%|████████▋ | 8701/10000 [10:56<02:30,  8.66it/s]"
     ]
    },
    {
     "name": "stdout",
     "output_type": "stream",
     "text": [
      " [Validation] :: Return:779.3677240515838, Steps:100.0\n"
     ]
    },
    {
     "name": "stderr",
     "output_type": "stream",
     "text": [
      " 88%|████████▊ | 8800/10000 [11:07<02:03,  9.74it/s]"
     ]
    },
    {
     "name": "stdout",
     "output_type": "stream",
     "text": [
      " [Validation] :: Return:620.7219199590322, Steps:100.0\n"
     ]
    },
    {
     "name": "stderr",
     "output_type": "stream",
     "text": [
      " 89%|████████▉ | 8902/10000 [11:17<01:52,  9.72it/s]"
     ]
    },
    {
     "name": "stdout",
     "output_type": "stream",
     "text": [
      " [Validation] :: Return:788.6671529271616, Steps:100.0\n"
     ]
    },
    {
     "name": "stderr",
     "output_type": "stream",
     "text": [
      " 90%|█████████ | 9001/10000 [11:28<01:52,  8.88it/s]"
     ]
    },
    {
     "name": "stdout",
     "output_type": "stream",
     "text": [
      "Checkpoint @ DQN\\9000.pie\n",
      " [Validation] :: Return:675.0433156426509, Steps:100.0\n"
     ]
    },
    {
     "name": "stderr",
     "output_type": "stream",
     "text": [
      " 91%|█████████ | 9101/10000 [11:39<01:42,  8.81it/s]"
     ]
    },
    {
     "name": "stdout",
     "output_type": "stream",
     "text": [
      " [Validation] :: Return:803.4061487718297, Steps:100.0\n"
     ]
    },
    {
     "name": "stderr",
     "output_type": "stream",
     "text": [
      " 92%|█████████▏| 9201/10000 [11:50<01:30,  8.85it/s]"
     ]
    },
    {
     "name": "stdout",
     "output_type": "stream",
     "text": [
      " [Validation] :: Return:698.4298491194836, Steps:100.0\n"
     ]
    },
    {
     "name": "stderr",
     "output_type": "stream",
     "text": [
      " 93%|█████████▎| 9301/10000 [12:01<01:15,  9.27it/s]"
     ]
    },
    {
     "name": "stdout",
     "output_type": "stream",
     "text": [
      " [Validation] :: Return:828.3584915258239, Steps:100.0\n"
     ]
    },
    {
     "name": "stderr",
     "output_type": "stream",
     "text": [
      " 94%|█████████▍| 9401/10000 [12:12<01:10,  8.46it/s]"
     ]
    },
    {
     "name": "stdout",
     "output_type": "stream",
     "text": [
      " [Validation] :: Return:825.6382888561195, Steps:100.0\n"
     ]
    },
    {
     "name": "stderr",
     "output_type": "stream",
     "text": [
      " 95%|█████████▌| 9501/10000 [12:22<00:52,  9.48it/s]"
     ]
    },
    {
     "name": "stdout",
     "output_type": "stream",
     "text": [
      " [Validation] :: Return:828.4635385153218, Steps:100.0\n"
     ]
    },
    {
     "name": "stderr",
     "output_type": "stream",
     "text": [
      " 96%|█████████▌| 9601/10000 [12:34<00:43,  9.25it/s]"
     ]
    },
    {
     "name": "stdout",
     "output_type": "stream",
     "text": [
      " [Validation] :: Return:807.3735414450275, Steps:100.0\n"
     ]
    },
    {
     "name": "stderr",
     "output_type": "stream",
     "text": [
      " 97%|█████████▋| 9700/10000 [12:45<00:33,  8.87it/s]"
     ]
    },
    {
     "name": "stdout",
     "output_type": "stream",
     "text": [
      " [Validation] :: Return:756.4261197285376, Steps:100.0\n"
     ]
    },
    {
     "name": "stderr",
     "output_type": "stream",
     "text": [
      " 98%|█████████▊| 9801/10000 [12:56<00:20,  9.62it/s]"
     ]
    },
    {
     "name": "stdout",
     "output_type": "stream",
     "text": [
      " [Validation] :: Return:668.5247964614568, Steps:100.0\n"
     ]
    },
    {
     "name": "stderr",
     "output_type": "stream",
     "text": [
      " 99%|█████████▉| 9901/10000 [13:06<00:10,  9.39it/s]"
     ]
    },
    {
     "name": "stdout",
     "output_type": "stream",
     "text": [
      " [Validation] :: Return:810.9939410247559, Steps:100.0\n"
     ]
    },
    {
     "name": "stderr",
     "output_type": "stream",
     "text": [
      "100%|██████████| 10000/10000 [13:17<00:00, 12.54it/s]\n"
     ]
    },
    {
     "name": "stdout",
     "output_type": "stream",
     "text": [
      "Checkpoint @ DQN\\10000.pie\n",
      " [Validation] :: Return:767.5273557024336, Steps:100.0\n",
      "[100.00 %]\n",
      "Saved @ DQN\\final.pie\n",
      " [Final-Validation] :: Return:767.5273557024336, Steps:100.0\n"
     ]
    },
    {
     "data": {
      "image/png": "[encoded data removed]",
      "text/plain": [
       "<Figure size 1600x600 with 4 Axes>"
      ]
     },
     "metadata": {},
     "output_type": "display_data"
    },
    {
     "name": "stdout",
     "output_type": "stream",
     "text": [
      "['DQN\\\\pre.pie', 'DQN\\\\1000.pie', 'DQN\\\\2000.pie', 'DQN\\\\3000.pie', 'DQN\\\\4000.pie', 'DQN\\\\5000.pie', 'DQN\\\\6000.pie', 'DQN\\\\7000.pie', 'DQN\\\\8000.pie', 'DQN\\\\9000.pie', 'DQN\\\\10000.pie', 'DQN\\\\final.pie']\n"
     ]
    }
   ],
   "source": [
    "np.bool8 = np.bool_\n",
    "\n",
    "pie, exp, validation_hist, train_hist, fig, checkpoints = dqn.train(\n",
    "    # policy params [T.P]\n",
    "    # not required\n",
    "    # value params [T.V]\n",
    "    value_theta=value_theta,\n",
    "    val_opt=cfopt_ADAM(\n",
    "        model=value_theta,\n",
    "        device_type=device,\n",
    "        weight_decay=weight_decay,\n",
    "        learning_rate=learning_rate,\n",
    "        betas=(0.9, 0.999),\n",
    "        eps=1e-8,\n",
    "    ),\n",
    "    value_lrsF=oo.lr_scheduler.LinearLR,\n",
    "    value_lrsA=dict(start_factor=1.0, end_factor=0.1, total_iters=epochs),\n",
    "    # device params [DEV]\n",
    "    dtype=dtype,\n",
    "    device=device,\n",
    "    # env params (training) [E]\n",
    "    env=env,\n",
    "    gamma=gamma,\n",
    "    polyak=polyak,\n",
    "    # learning params [L]\n",
    "    epochs=epochs,\n",
    "    batch_size=batch_size,\n",
    "    # verbf=int(epochs/10),\n",
    "    learn_times=learn_times,\n",
    "    # explore-exploit [X]\n",
    "    # explore_heuristic=explore_heuristic,\n",
    "    explore_size=explore_size,\n",
    "    epsilonStart=epsilonStart,\n",
    "    epsilonF=epsilonF,\n",
    "    epsilonSeed=epsilonSeed,\n",
    "    reset_seed=None,  # <--- seed supplied to generate task\n",
    "    # memory params [M]\n",
    "    memory_capacity=memory_capacity,\n",
    "    memory_seed=None,\n",
    "    min_memory=min_memory,\n",
    "    # validation params [V]\n",
    "    validations_envs=validations_envs,\n",
    "    validation_freq=int(epochs / n_validations),\n",
    "    validation_max_steps=None,  # inf horizon\n",
    "    validation_reset_seed=None,\n",
    "    validation_episodes=1,\n",
    "    validation_verbose=0,\n",
    "    validation_render=False,\n",
    "    # algorithm-specific params [A]\n",
    "    double=double,\n",
    "    tuf=tuf,\n",
    "    # result params [R]\n",
    "    plot_results=True,\n",
    "    save_at=save_at,\n",
    "    checkpoint_freq=int(epochs / n_checkpoints) if n_checkpoints > 0 else 0,\n",
    "    explorer=exp,\n",
    "    clear_memory=False,\n",
    ")\n",
    "\n",
    "print(checkpoints)"
   ]
  },
  {
   "cell_type": "code",
   "execution_count": 12,
   "metadata": {},
   "outputs": [
    {
     "name": "stdout",
     "output_type": "stream",
     "text": [
      "[1, 0, 0, 0, 0, 1, 0, 1, 0, 1, 0, 0, 1, 0, 0, 0, 0, 0, 1, 0, 1, 0, 1, 0, 0, 1, 0, 1, 1, 1, 1, 1, 1, 0, 0, 0, 0, 0, 0, 0, 0, 0, 1, 0, 1, 1, 1, 1, 0, 0, 0, 0, 0, 0, 0, 0, 0, 0, 0, 0, 0, 0, 0, 0, 0, 0, 0, 0, 0, 0, 0, 0, 0, 0, 0, 0, 0, 0, 0, 0, 0, 0, 0, 0, 0, 0, 0, 0, 0, 0, 0, 0, 0, 1, 0, 1, 0, 1, 0, 1]\n",
      "767.5273557024336\n"
     ]
    }
   ],
   "source": [
    "obs, info = env.reset()\n",
    "cs = 0\n",
    "ac = []\n",
    "done = False\n",
    "while not done:\n",
    "    action = pie.predict(obs)\n",
    "    obs, reward, terminated, truncated, info = env.step(action)\n",
    "    done = truncated or terminated\n",
    "    cs += reward\n",
    "    ac.append(action)\n",
    "    # if terminated or truncated:\n",
    "    # obs, info = env.reset()\n",
    "print(ac)\n",
    "print(cs)"
   ]
  }
 ],
 "metadata": {
  "kernelspec": {
   "display_name": "virtual_env",
   "language": "python",
   "name": "python3"
  },
  "language_info": {
   "codemirror_mode": {
    "name": "ipython",
    "version": 3
   },
   "file_extension": ".py",
   "mimetype": "text/x-python",
   "name": "python",
   "nbconvert_exporter": "python",
   "pygments_lexer": "ipython3",
   "version": "3.12.4"
  }
 },
 "nbformat": 4,
 "nbformat_minor": 4
}
